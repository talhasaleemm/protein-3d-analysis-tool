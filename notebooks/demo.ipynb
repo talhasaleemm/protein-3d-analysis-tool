#Create through Jupyter interface
jupyter notebook


{
 "cells": [
  {
   "cell_type": "code",
   "execution_count": null,
   "metadata": {},
   "outputs": [],
   "source": [
    "# Protein 3D Analysis Demo\n",
    "from src.main import create_interface\n",
    "\n",
    "# Launch interactive interface\n",
    "create_interface()\n",
    "\n",
    "# Example direct usage\n",
    "# from src.main import run_analysis\n",
    "# df, model = run_analysis('1BNA', view_style='surface')"
   ]
  }
 ],
 "metadata": {
  "kernelspec": {
   "display_name": "Python 3",
   "language": "python",
   "name": "python3"
  }
 },
 "nbformat": 4,
 "nbformat_minor": 4
}

jupyter nbconvert --execute notebooks/demo.ipynb --to notebook --output demo-validated.ipynb
