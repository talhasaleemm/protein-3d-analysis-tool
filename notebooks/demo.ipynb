# Protein 3D Analysis Demo
from src.main import create_interface

# Launch interactive interface
create_interface()

# Example direct usage
# from src.main import run_analysis
# df, model = run_analysis('1BNA', view_style='surface')
